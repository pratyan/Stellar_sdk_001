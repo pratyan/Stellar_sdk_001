{
  "nbformat": 4,
  "nbformat_minor": 0,
  "metadata": {
    "colab": {
      "name": "Stellar_001.ipynb",
      "provenance": []
    },
    "kernelspec": {
      "name": "python3",
      "display_name": "Python 3"
    },
    "language_info": {
      "name": "python"
    }
  },
  "cells": [
    {
      "cell_type": "code",
      "execution_count": null,
      "metadata": {
        "id": "yeS3EnF2-pzX"
      },
      "outputs": [],
      "source": [
        "pip install -U stellar-sdk"
      ]
    },
    {
      "cell_type": "code",
      "source": [
        "from stellar_sdk import Keypair"
      ],
      "metadata": {
        "id": "7c9RUPek-uqS"
      },
      "execution_count": 2,
      "outputs": []
    },
    {
      "cell_type": "code",
      "source": [
        "pair = Keypair.random() # creating a random keypair\n",
        "\n",
        "print(f\"Secret: {pair.secret}\") #private_key\n",
        "print(f\"Public Key: {pair.public_key}\") #public_key"
      ],
      "metadata": {
        "colab": {
          "base_uri": "https://localhost:8080/"
        },
        "id": "8I1NoKyX_iSf",
        "outputId": "58b235ec-4918-448b-a08c-19a0d9ca87ca"
      },
      "execution_count": 3,
      "outputs": [
        {
          "output_type": "stream",
          "name": "stdout",
          "text": [
            "Secret: SDJCFP25BRZYGK76BIKQ4TFC4ECBT5ACFE3DXEJ57VB7K3WRMJFAZBNZ\n",
            "Public Key: GAVR5MIFILZECQCGBXUWBMLTWRHOKH5UBC2ANXK74ZWPNSKK4RIMNNVJ\n"
          ]
        }
      ]
    },
    {
      "cell_type": "code",
      "source": [
        "import requests\n",
        "\n",
        "public_key = str(pair.public_key)\n",
        "\n",
        "#In Stellar keypairs can exsist but an acoount can only be created from a public_key if that public_key has a balance of >= 1 XLM\n",
        "#But since we are in test network, we can request free XLM and create an account from \"Freindbot\"\n",
        "# AccountId = Publickey(used to request)\n",
        "response = requests.get(f\"https://friendbot.stellar.org?addr={public_key}\")\n",
        "\n",
        "if response.status_code == 200:\n",
        "  print(f\"SUCCESS! You have a new account :)\\n{response.text}\")\n",
        "else:\n",
        "  print(f\"ERROR! Response: \\n{response.text}\")"
      ],
      "metadata": {
        "colab": {
          "base_uri": "https://localhost:8080/"
        },
        "id": "KwL1cYuX_1oV",
        "outputId": "9b8c452f-be33-4ae5-a4a6-4772ab4343cc"
      },
      "execution_count": 4,
      "outputs": [
        {
          "output_type": "stream",
          "name": "stdout",
          "text": [
            "SUCCESS! You have a new account :)\n",
            "{\n",
            "  \"_links\": {\n",
            "    \"self\": {\n",
            "      \"href\": \"https://horizon-testnet.stellar.org/transactions/b065aa51e0f412667bc2347c145046be0e0680dff419682ce5ba8d5b3b74d78f\"\n",
            "    },\n",
            "    \"account\": {\n",
            "      \"href\": \"https://horizon-testnet.stellar.org/accounts/GAN56N7BQTUSLSXP662XTWL3PMNSRLEF2TGP67HAWREXU6MAQR4TNVVP\"\n",
            "    },\n",
            "    \"ledger\": {\n",
            "      \"href\": \"https://horizon-testnet.stellar.org/ledgers/25238\"\n",
            "    },\n",
            "    \"operations\": {\n",
            "      \"href\": \"https://horizon-testnet.stellar.org/transactions/b065aa51e0f412667bc2347c145046be0e0680dff419682ce5ba8d5b3b74d78f/operations{?cursor,limit,order}\",\n",
            "      \"templated\": true\n",
            "    },\n",
            "    \"effects\": {\n",
            "      \"href\": \"https://horizon-testnet.stellar.org/transactions/b065aa51e0f412667bc2347c145046be0e0680dff419682ce5ba8d5b3b74d78f/effects{?cursor,limit,order}\",\n",
            "      \"templated\": true\n",
            "    },\n",
            "    \"precedes\": {\n",
            "      \"href\": \"https://horizon-testnet.stellar.org/transactions?order=asc\\u0026cursor=108396384620544\"\n",
            "    },\n",
            "    \"succeeds\": {\n",
            "      \"href\": \"https://horizon-testnet.stellar.org/transactions?order=desc\\u0026cursor=108396384620544\"\n",
            "    },\n",
            "    \"transaction\": {\n",
            "      \"href\": \"https://horizon-testnet.stellar.org/transactions/b065aa51e0f412667bc2347c145046be0e0680dff419682ce5ba8d5b3b74d78f\"\n",
            "    }\n",
            "  },\n",
            "  \"id\": \"b065aa51e0f412667bc2347c145046be0e0680dff419682ce5ba8d5b3b74d78f\",\n",
            "  \"paging_token\": \"108396384620544\",\n",
            "  \"successful\": true,\n",
            "  \"hash\": \"b065aa51e0f412667bc2347c145046be0e0680dff419682ce5ba8d5b3b74d78f\",\n",
            "  \"ledger\": 25238,\n",
            "  \"created_at\": \"2022-03-17T22:38:36Z\",\n",
            "  \"source_account\": \"GAN56N7BQTUSLSXP662XTWL3PMNSRLEF2TGP67HAWREXU6MAQR4TNVVP\",\n",
            "  \"source_account_sequence\": \"1370094567432\",\n",
            "  \"fee_account\": \"GAN56N7BQTUSLSXP662XTWL3PMNSRLEF2TGP67HAWREXU6MAQR4TNVVP\",\n",
            "  \"fee_charged\": \"100000\",\n",
            "  \"max_fee\": \"100000\",\n",
            "  \"operation_count\": 1,\n",
            "  \"envelope_xdr\": \"AAAAAgAAAAAb3zfhhOklyu/3tXnZe3sbKKyF1Mz/fOC0SXp5gIR5NgABhqAAAAE/AAAACAAAAAEAAAAAAAAAAAAAAAAAAAAAAAAAAAAAAAEAAAABAAAAABB90WssODNIgi6BHveqzxTRmIpvAFRyVNM+Hm2GVuCcAAAAAAAAAAArHrEFQvJBQEYN6WCxc7RO5R+0CLQG3V/mbPbJSuRQxgAAABdIdugAAAAAAAAAAAKAhHk2AAAAQHnuKCq8pCR4gdGyPLT4HI85u809vXRpgchcgNQep3FB6OGiTfpMOMI7orxDpAB94awRZ7H1R4ytowth1GlcmwiGVuCcAAAAQPoYa7mYCu/ozrP5WbsZ/wD3A6fbKUiEqx4/LQ+i11nXt+3EkPNgXYSgvRQclPiCFRey4Go+kv6560wB/70BZQk=\",\n",
            "  \"result_xdr\": \"AAAAAAABhqAAAAAAAAAAAQAAAAAAAAAAAAAAAAAAAAA=\",\n",
            "  \"result_meta_xdr\": \"AAAAAgAAAAIAAAADAABilgAAAAAAAAAAG9834YTpJcrv97V52Xt7GyishdTM/3zgtEl6eYCEeTYAAAAAPC/c5AAAAT8AAAAHAAAAAAAAAAAAAAAAAAAAAAEAAAAAAAAAAAAAAAAAAAAAAAABAABilgAAAAAAAAAAG9834YTpJcrv97V52Xt7GyishdTM/3zgtEl6eYCEeTYAAAAAPC/c5AAAAT8AAAAIAAAAAAAAAAAAAAAAAAAAAAEAAAAAAAAAAAAAAAAAAAAAAAABAAAAAwAAAAMAAGKUAAAAAAAAAAAQfdFrLDgzSIIugR73qs8U0ZiKbwBUclTTPh5thlbgnAFelHbX/WH0AAAAsAAAAGQAAAAAAAAAAAAAAAAAAAAAAQAAAAAAAAAAAAAAAAAAAAAAAAEAAGKWAAAAAAAAAAAQfdFrLDgzSIIugR73qs8U0ZiKbwBUclTTPh5thlbgnAFelF+Phnn0AAAAsAAAAGQAAAAAAAAAAAAAAAAAAAAAAQAAAAAAAAAAAAAAAAAAAAAAAAAAAGKWAAAAAAAAAAArHrEFQvJBQEYN6WCxc7RO5R+0CLQG3V/mbPbJSuRQxgAAABdIdugAAABilgAAAAAAAAAAAAAAAAAAAAAAAAAAAQAAAAAAAAAAAAAAAAAAAAAAAAA=\",\n",
            "  \"fee_meta_xdr\": \"AAAAAgAAAAMAAFQnAAAAAAAAAAAb3zfhhOklyu/3tXnZe3sbKKyF1Mz/fOC0SXp5gIR5NgAAAAA8MWOEAAABPwAAAAcAAAAAAAAAAAAAAAAAAAAAAQAAAAAAAAAAAAAAAAAAAAAAAAEAAGKWAAAAAAAAAAAb3zfhhOklyu/3tXnZe3sbKKyF1Mz/fOC0SXp5gIR5NgAAAAA8L9zkAAABPwAAAAcAAAAAAAAAAAAAAAAAAAAAAQAAAAAAAAAAAAAAAAAAAA==\",\n",
            "  \"memo_type\": \"none\",\n",
            "  \"signatures\": [\n",
            "    \"ee4oKrykJHiB0bI8tPgcjzm7zT29dGmByFyA1B6ncUHo4aJN+kw4wjuivEOkAH3hrBFnsfVHjK2jC2HUaVybCA==\",\n",
            "    \"+hhruZgK7+jOs/lZuxn/APcDp9spSISrHj8tD6LXWde37cSQ82BdhKC9FByU+IIVF7Lgaj6S/rnrTAH/vQFlCQ==\"\n",
            "  ],\n",
            "  \"valid_after\": \"1970-01-01T00:00:00Z\"\n",
            "}\n"
          ]
        }
      ]
    },
    {
      "cell_type": "code",
      "source": [
        "from stellar_sdk import Server\n",
        "\n",
        "server = Server(\"https://horizon-testnet.stellar.org\") #Stellar-Testnet server\n",
        "\n",
        "# Now fetching the account from the testnet server\n",
        "account = server.accounts().account_id(public_key).call()\n",
        "\n",
        "# Now fetching the 'balance' of that account\n",
        "for balance in account['balances']:\n",
        "  print(f\"Type: {balance['asset_type']}, Balance: {balance['balance']}\")\n"
      ],
      "metadata": {
        "colab": {
          "base_uri": "https://localhost:8080/"
        },
        "id": "dgx4Jr3vCFAY",
        "outputId": "8a42b3f6-c8ee-4676-f2f3-1b6f1a4128ab"
      },
      "execution_count": 5,
      "outputs": [
        {
          "output_type": "stream",
          "name": "stdout",
          "text": [
            "Type: native, Balance: 10000.0000000\n"
          ]
        }
      ]
    },
    {
      "cell_type": "code",
      "source": [
        "account"
      ],
      "metadata": {
        "colab": {
          "base_uri": "https://localhost:8080/"
        },
        "id": "dw4A6K0wEK3M",
        "outputId": "9b546495-3fe5-40b5-ee90-04361f108b92"
      },
      "execution_count": 6,
      "outputs": [
        {
          "output_type": "execute_result",
          "data": {
            "text/plain": [
              "{'_links': {'data': {'href': 'https://horizon-testnet.stellar.org/accounts/GAVR5MIFILZECQCGBXUWBMLTWRHOKH5UBC2ANXK74ZWPNSKK4RIMNNVJ/data/{key}',\n",
              "   'templated': True},\n",
              "  'effects': {'href': 'https://horizon-testnet.stellar.org/accounts/GAVR5MIFILZECQCGBXUWBMLTWRHOKH5UBC2ANXK74ZWPNSKK4RIMNNVJ/effects{?cursor,limit,order}',\n",
              "   'templated': True},\n",
              "  'offers': {'href': 'https://horizon-testnet.stellar.org/accounts/GAVR5MIFILZECQCGBXUWBMLTWRHOKH5UBC2ANXK74ZWPNSKK4RIMNNVJ/offers{?cursor,limit,order}',\n",
              "   'templated': True},\n",
              "  'operations': {'href': 'https://horizon-testnet.stellar.org/accounts/GAVR5MIFILZECQCGBXUWBMLTWRHOKH5UBC2ANXK74ZWPNSKK4RIMNNVJ/operations{?cursor,limit,order}',\n",
              "   'templated': True},\n",
              "  'payments': {'href': 'https://horizon-testnet.stellar.org/accounts/GAVR5MIFILZECQCGBXUWBMLTWRHOKH5UBC2ANXK74ZWPNSKK4RIMNNVJ/payments{?cursor,limit,order}',\n",
              "   'templated': True},\n",
              "  'self': {'href': 'https://horizon-testnet.stellar.org/accounts/GAVR5MIFILZECQCGBXUWBMLTWRHOKH5UBC2ANXK74ZWPNSKK4RIMNNVJ'},\n",
              "  'trades': {'href': 'https://horizon-testnet.stellar.org/accounts/GAVR5MIFILZECQCGBXUWBMLTWRHOKH5UBC2ANXK74ZWPNSKK4RIMNNVJ/trades{?cursor,limit,order}',\n",
              "   'templated': True},\n",
              "  'transactions': {'href': 'https://horizon-testnet.stellar.org/accounts/GAVR5MIFILZECQCGBXUWBMLTWRHOKH5UBC2ANXK74ZWPNSKK4RIMNNVJ/transactions{?cursor,limit,order}',\n",
              "   'templated': True}},\n",
              " 'account_id': 'GAVR5MIFILZECQCGBXUWBMLTWRHOKH5UBC2ANXK74ZWPNSKK4RIMNNVJ',\n",
              " 'balances': [{'asset_type': 'native',\n",
              "   'balance': '10000.0000000',\n",
              "   'buying_liabilities': '0.0000000',\n",
              "   'selling_liabilities': '0.0000000'}],\n",
              " 'data': {},\n",
              " 'flags': {'auth_clawback_enabled': False,\n",
              "  'auth_immutable': False,\n",
              "  'auth_required': False,\n",
              "  'auth_revocable': False},\n",
              " 'id': 'GAVR5MIFILZECQCGBXUWBMLTWRHOKH5UBC2ANXK74ZWPNSKK4RIMNNVJ',\n",
              " 'last_modified_ledger': 25238,\n",
              " 'last_modified_time': '2022-03-17T22:38:36Z',\n",
              " 'num_sponsored': 0,\n",
              " 'num_sponsoring': 0,\n",
              " 'paging_token': 'GAVR5MIFILZECQCGBXUWBMLTWRHOKH5UBC2ANXK74ZWPNSKK4RIMNNVJ',\n",
              " 'sequence': '108396384616448',\n",
              " 'signers': [{'key': 'GAVR5MIFILZECQCGBXUWBMLTWRHOKH5UBC2ANXK74ZWPNSKK4RIMNNVJ',\n",
              "   'type': 'ed25519_public_key',\n",
              "   'weight': 1}],\n",
              " 'subentry_count': 0,\n",
              " 'thresholds': {'high_threshold': 0, 'low_threshold': 0, 'med_threshold': 0}}"
            ]
          },
          "metadata": {},
          "execution_count": 6
        }
      ]
    },
    {
      "cell_type": "code",
      "source": [
        "##Creating a second acoount\n",
        "\n",
        "pair2 = Keypair.random()\n",
        "\n",
        "public_key2 = str(pair2.public_key)\n",
        "\n",
        "#In Stellar keypairs can exsist but an acoount can only be created from a public_key if that public_key has a balance of >= 1 XLM\n",
        "#But since we are in test network, we can request free XLM and create an account from \"Freindbot\"\n",
        "# AccountId = Publickey(used to request)\n",
        "response = requests.get(f\"https://friendbot.stellar.org?addr={public_key2}\")\n",
        "\n",
        "if response.status_code == 200:\n",
        "  print(f\"SUCCESS! You have a new account :\")\n",
        "else:\n",
        "  print(f\"ERROR! Response:\")\n",
        "\n"
      ],
      "metadata": {
        "colab": {
          "base_uri": "https://localhost:8080/"
        },
        "id": "YIFRyyNwWfis",
        "outputId": "fbdc220b-5f70-44ae-8b8c-14c75c79de7b"
      },
      "execution_count": 9,
      "outputs": [
        {
          "output_type": "stream",
          "name": "stdout",
          "text": [
            "SUCCESS! You have a new account :\n"
          ]
        }
      ]
    },
    {
      "cell_type": "code",
      "source": [
        "## Send a Payment\n",
        "from stellar_sdk import Asset, Keypair, Network, Server, TransactionBuilder\n",
        "from stellar_sdk.exceptions import NotFoundError, BadResponseError, BadRequestError\n",
        "\n",
        "server = Server(\"https://horizon-testnet.stellar.org\") #Testnet-server\n",
        "\n",
        "\n",
        "# First, check to make sure that the destination account exists.\n",
        "# You could skip this, but if the account does not exist, you will be charged\n",
        "# the transaction fee when the transaction fails.\n",
        "try:\n",
        "    server.load_account(public_key2)\n",
        "except NotFoundError:\n",
        "    # If the account is not found, surface an error message for logging.\n",
        "    raise Exception(\"The destination account does not exist!\")\n",
        "\n",
        "\n",
        "# loading our account\n",
        "source_account = server.load_account(pair.public_key)\n",
        "\n",
        "#fetching transaction fee from the network\n",
        "base_fee = server.fetch_base_fee()\n",
        "\n",
        "\n",
        "#start building the transaction\n",
        "transaction = (\n",
        "    TransactionBuilder(\n",
        "        source_account= source_account,\n",
        "        network_passphrase = Network.TESTNET_NETWORK_PASSPHRASE,\n",
        "        base_fee = base_fee,\n",
        "    )\n",
        "\n",
        "        # Because Stellar allows transaction in many currencies, you must specify the asset type.\n",
        "        # Here we are sending Lumens.\n",
        "        .append_payment_op(destination = public_key2, asset = Asset.native(), amount = '10')\n",
        "\n",
        "        # A memo allows you to add your own metadata to a transaction. It's\n",
        "        # optional and does not affect how Stellar treats the transaction.\n",
        "        .add_text_memo(\"Test Transaction\")\n",
        "\n",
        "        # Wait a maximum of three minutes for the transaction\n",
        "        .set_timeout(10)\n",
        "        .build()\n",
        ")\n",
        "\n",
        "\n",
        "# Sign the transaction to prove you are actually the person sending it.\n",
        "transaction.sign(pair.secret)\n",
        "\n",
        "\n",
        "try:\n",
        "  # And finally, send it off to Stellar!\n",
        "  response = server.submit_transaction(transaction)\n",
        "  print(f\"Response: {response}\")\n",
        "except (BadRequestError, BadResponseError) as err:\n",
        "  print(f\"Something went wrong! \\n{err}\")\n",
        "\n"
      ],
      "metadata": {
        "colab": {
          "base_uri": "https://localhost:8080/"
        },
        "id": "QuTwjgfiVHWi",
        "outputId": "3d9ddbe8-1a1d-4958-99d5-c7bf9554c658"
      },
      "execution_count": 11,
      "outputs": [
        {
          "output_type": "stream",
          "name": "stdout",
          "text": [
            "Response: {'memo': 'Test Transaction', 'memo_bytes': 'VGVzdCBUcmFuc2FjdGlvbg==', '_links': {'self': {'href': 'https://horizon-testnet.stellar.org/transactions/33905b659b8acddf798e787c935f84eebdf85cd3dd4279fc85f2178d7c1c3842'}, 'account': {'href': 'https://horizon-testnet.stellar.org/accounts/GAVR5MIFILZECQCGBXUWBMLTWRHOKH5UBC2ANXK74ZWPNSKK4RIMNNVJ'}, 'ledger': {'href': 'https://horizon-testnet.stellar.org/ledgers/26543'}, 'operations': {'href': 'https://horizon-testnet.stellar.org/transactions/33905b659b8acddf798e787c935f84eebdf85cd3dd4279fc85f2178d7c1c3842/operations{?cursor,limit,order}', 'templated': True}, 'effects': {'href': 'https://horizon-testnet.stellar.org/transactions/33905b659b8acddf798e787c935f84eebdf85cd3dd4279fc85f2178d7c1c3842/effects{?cursor,limit,order}', 'templated': True}, 'precedes': {'href': 'https://horizon-testnet.stellar.org/transactions?order=asc&cursor=114001316941824'}, 'succeeds': {'href': 'https://horizon-testnet.stellar.org/transactions?order=desc&cursor=114001316941824'}, 'transaction': {'href': 'https://horizon-testnet.stellar.org/transactions/33905b659b8acddf798e787c935f84eebdf85cd3dd4279fc85f2178d7c1c3842'}}, 'id': '33905b659b8acddf798e787c935f84eebdf85cd3dd4279fc85f2178d7c1c3842', 'paging_token': '114001316941824', 'successful': True, 'hash': '33905b659b8acddf798e787c935f84eebdf85cd3dd4279fc85f2178d7c1c3842', 'ledger': 26543, 'created_at': '2022-03-18T00:32:48Z', 'source_account': 'GAVR5MIFILZECQCGBXUWBMLTWRHOKH5UBC2ANXK74ZWPNSKK4RIMNNVJ', 'source_account_sequence': '108396384616449', 'fee_account': 'GAVR5MIFILZECQCGBXUWBMLTWRHOKH5UBC2ANXK74ZWPNSKK4RIMNNVJ', 'fee_charged': '100', 'max_fee': '100', 'operation_count': 1, 'envelope_xdr': 'AAAAAgAAAAArHrEFQvJBQEYN6WCxc7RO5R+0CLQG3V/mbPbJSuRQxgAAAGQAAGKWAAAAAQAAAAEAAAAAAAAAAAAAAABiM9M4AAAAAQAAABBUZXN0IFRyYW5zYWN0aW9uAAAAAQAAAAAAAAABAAAAAIKUk3HrsB85IyRFGnJ8Iv7W1WrNk30eUMaREgm3bN8eAAAAAAAAAAAF9eEAAAAAAAAAAAFK5FDGAAAAQPoOVNI8wf7KJRLwr3Zgp5cgTtSj2+flFd22L8bndsiL1FBHKTmXgPQidP6FtmXZ9yOqc33h52bCvUIfKMJU6A0=', 'result_xdr': 'AAAAAAAAAGQAAAAAAAAAAQAAAAAAAAABAAAAAAAAAAA=', 'result_meta_xdr': 'AAAAAgAAAAIAAAADAABnrwAAAAAAAAAAKx6xBULyQUBGDelgsXO0TuUftAi0Bt1f5mz2yUrkUMYAAAAXSHbnnAAAYpYAAAAAAAAAAAAAAAAAAAAAAAAAAAEAAAAAAAAAAAAAAAAAAAAAAAABAABnrwAAAAAAAAAAKx6xBULyQUBGDelgsXO0TuUftAi0Bt1f5mz2yUrkUMYAAAAXSHbnnAAAYpYAAAABAAAAAAAAAAAAAAAAAAAAAAEAAAAAAAAAAAAAAAAAAAAAAAABAAAABAAAAAMAAGevAAAAAAAAAAArHrEFQvJBQEYN6WCxc7RO5R+0CLQG3V/mbPbJSuRQxgAAABdIduecAABilgAAAAEAAAAAAAAAAAAAAAAAAAAAAQAAAAAAAAAAAAAAAAAAAAAAAAEAAGevAAAAAAAAAAArHrEFQvJBQEYN6WCxc7RO5R+0CLQG3V/mbPbJSuRQxgAAABdCgQacAABilgAAAAEAAAAAAAAAAAAAAAAAAAAAAQAAAAAAAAAAAAAAAAAAAAAAAAMAAGa6AAAAAAAAAACClJNx67AfOSMkRRpyfCL+1tVqzZN9HlDGkRIJt2zfHgAAABdIdugAAABmugAAAAAAAAAAAAAAAAAAAAAAAAAAAQAAAAAAAAAAAAAAAAAAAAAAAAEAAGevAAAAAAAAAACClJNx67AfOSMkRRpyfCL+1tVqzZN9HlDGkRIJt2zfHgAAABdObMkAAABmugAAAAAAAAAAAAAAAAAAAAAAAAAAAQAAAAAAAAAAAAAAAAAAAAAAAAA=', 'fee_meta_xdr': 'AAAAAgAAAAMAAGKWAAAAAAAAAAArHrEFQvJBQEYN6WCxc7RO5R+0CLQG3V/mbPbJSuRQxgAAABdIdugAAABilgAAAAAAAAAAAAAAAAAAAAAAAAAAAQAAAAAAAAAAAAAAAAAAAAAAAAEAAGevAAAAAAAAAAArHrEFQvJBQEYN6WCxc7RO5R+0CLQG3V/mbPbJSuRQxgAAABdIduecAABilgAAAAAAAAAAAAAAAAAAAAAAAAAAAQAAAAAAAAAAAAAAAAAAAA==', 'memo_type': 'text', 'signatures': ['+g5U0jzB/solEvCvdmCnlyBO1KPb5+UV3bYvxud2yIvUUEcpOZeA9CJ0/oW2Zdn3I6pzfeHnZsK9Qh8owlToDQ=='], 'valid_after': '1970-01-01T00:00:00Z', 'valid_before': '2022-03-18T00:32:56Z'}\n"
          ]
        }
      ]
    },
    {
      "cell_type": "code",
      "source": [
        "## A simple program that watches the network for payments \n",
        "\n",
        "def load_last_paging_token():\n",
        "    # Get the last paging token from a local database or file\n",
        "    return \"now\"\n",
        "\n",
        "def save_paging_token(paging_token):\n",
        "    # In most cases, you should save this to a local database or file so that\n",
        "    # you can load it next time you stream new payments.\n",
        "    pass\n",
        "\n",
        "\n",
        "# Create an API call to query payments involving the account.\n",
        "payments = server.payments().for_account(public_key)\n",
        "\n",
        "# There are two main parts to this program. First, you create a query for \n",
        "# payments involving a given account. Like most queries in Stellar, this could return a\n",
        "# huge number of items, so the API returns paging tokens, which you can use later \n",
        "# to start your query from the same point where you previously left off. \n",
        "# In the example above, the functions to save and load paging tokens are left blank, \n",
        "# but in a real application, you’d want to save the paging tokens to a file or database so you \n",
        "# can pick up where you left off in case the program crashes or the user closes it.\n",
        "\n",
        "last_token = load_last_paging_token() #getting the bookmark\n",
        "if last_token:\n",
        "  payments.cursor(last_token) #cursor to the bookmark\n",
        "\n",
        "\n",
        "\n",
        "# `stream` will send each recorded payment, one by one, then keep the\n",
        "# connection open and continue to send you new payments as they occur.\n",
        "for payment in payments.stream():\n",
        "   # Record the paging token so we can start from here next time.\n",
        "    save_paging_token(payment[\"paging_token\"])\n",
        "\n",
        "    # We only process `payment`, ignore `create_account` and `account_merge`.\n",
        "    if payment[\"type\"] != \"payment\":\n",
        "        continue\n",
        "\n",
        "    # The payments stream includes both sent and received payments. We\n",
        "    # only want to process received payments here.\n",
        "    if payment['to'] != public_key:\n",
        "        continue\n",
        "\n",
        "    # In Stellar’s API, Lumens are referred to as the “native” type. Other\n",
        "    # asset types have more detailed information.\n",
        "    if payment[\"asset_type\"] == \"native\":\n",
        "        asset = \"Lumens\"\n",
        "    else:\n",
        "        asset = f\"{payment['asset_code']}:{payment['asset_issuer']}\"\n",
        "\n",
        "    print(f\"{payment['amount']} {asset} from {payment['from']}\")\n"
      ],
      "metadata": {
        "id": "bAJ8MwNcblx0"
      },
      "execution_count": null,
      "outputs": []
    },
    {
      "cell_type": "code",
      "source": [
        ""
      ],
      "metadata": {
        "id": "f-bMb55EmKfS"
      },
      "execution_count": null,
      "outputs": []
    }
  ]
}